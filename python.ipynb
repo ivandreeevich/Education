{
  "nbformat": 4,
  "nbformat_minor": 0,
  "metadata": {
    "colab": {
      "provenance": [],
      "authorship_tag": "ABX9TyO2cMKjgdTpx1GyIXMcXo3r",
      "include_colab_link": true
    },
    "kernelspec": {
      "name": "python3",
      "display_name": "Python 3"
    },
    "language_info": {
      "name": "python"
    }
  },
  "cells": [
    {
      "cell_type": "markdown",
      "metadata": {
        "id": "view-in-github",
        "colab_type": "text"
      },
      "source": [
        "<a href=\"https://colab.research.google.com/github/ivandreeevich/Education/blob/main/python.ipynb\" target=\"_parent\"><img src=\"https://colab.research.google.com/assets/colab-badge.svg\" alt=\"Open In Colab\"/></a>"
      ]
    },
    {
      "cell_type": "code",
      "execution_count": 4,
      "metadata": {
        "id": "hrExwa8U_-BI",
        "colab": {
          "base_uri": "https://localhost:8080/"
        },
        "outputId": "bd41d257-c43f-455a-a3fa-6c30dd68d065"
      },
      "outputs": [
        {
          "output_type": "stream",
          "name": "stdout",
          "text": [
            "2\n",
            "dfdfd\n",
            "Я больше никогда не буду писать \"dfdfd\"!\n",
            "Я больше никогда не буду писать \"dfdfd\"!\n",
            "\n"
          ]
        }
      ],
      "source": [
        "a = int(input())\n",
        "b = input()\n",
        "\n",
        "print(f'Я больше никогда не буду писать \"{b}\"!\\n' * a )"
      ]
    },
    {
      "cell_type": "code",
      "source": [
        "q = int(input())\n",
        "str = input()\n",
        "\n",
        "print(f'Я больше никогда не буду писать \"{str}\"!\\n' * q)"
      ],
      "metadata": {
        "colab": {
          "base_uri": "https://localhost:8080/"
        },
        "id": "gQxw-YLTbGgx",
        "outputId": "52c1c582-3191-4c1a-de47-08f91ae5d5ec"
      },
      "execution_count": 3,
      "outputs": [
        {
          "output_type": "stream",
          "name": "stdout",
          "text": [
            "2\n",
            "2323\n",
            "Я больше никогда не буду писать \"2323\"!\n",
            "Я больше никогда не буду писать \"2323\"!\n",
            "\n"
          ]
        }
      ]
    }
  ]
}